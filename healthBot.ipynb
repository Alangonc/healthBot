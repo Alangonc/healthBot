{
  "nbformat": 4,
  "nbformat_minor": 0,
  "metadata": {
    "colab": {
      "provenance": [],
      "authorship_tag": "ABX9TyOjtPJCFZcgtnq/eab2gT9y",
      "include_colab_link": true
    },
    "kernelspec": {
      "name": "python3",
      "display_name": "Python 3"
    },
    "language_info": {
      "name": "python"
    }
  },
  "cells": [
    {
      "cell_type": "markdown",
      "metadata": {
        "id": "view-in-github",
        "colab_type": "text"
      },
      "source": [
        "<a href=\"https://colab.research.google.com/github/Alangonc/healthBot/blob/main/healthBot.ipynb\" target=\"_parent\"><img src=\"https://colab.research.google.com/assets/colab-badge.svg\" alt=\"Open In Colab\"/></a>"
      ]
    },
    {
      "cell_type": "markdown",
      "source": [
        "# Chatbot Médico Inteligente com Google Gemini\n",
        "\n",
        "---\n",
        "**Projeto:** Chatbot de Análise de Receitas Médicas<br>\n",
        "\n",
        "**Autor:** Alan Gonçalves<br>\n",
        "\n",
        "**Curso/Disciplina:** Imersão IA 3a. Edição Alura + Google<br>\n",
        "\n",
        "**Orientador(es):** <br>Fabricio Carraro - Program Manager<br>\n",
        "Luciano Martins - Developer Advocate, Google IA. <br>\n",
        "Valquíria Alencar - Instrutora de Data Science\n",
        "\n",
        "**Data de Início:** 12/05/2025 <br>\n",
        "**Data da Versão Atual:** 16/05/2025 <br>\n",
        "**Versão do Código:** v1.0.1-alpha <br>\n",
        "\n",
        "**Contato:**\n",
        "*   Email: alangonc@gmail.com\n",
        "*   LinkedIn: [Seu Perfil LinkedIn](https://www.linkedin.com/in/alangoncalves/)\n",
        "*   GitHub: [Seu Perfil GitHub](https://github.com/Alangonc)\n",
        "\n",
        "**Repositório do Projeto:** [HealthBot](https://github.com/Alangonc/healthChatbot)\n",
        "---"
      ],
      "metadata": {
        "id": "GHil6Sh_PvzN"
      }
    },
    {
      "cell_type": "markdown",
      "source": [
        "## Visão Geral do Projeto\n",
        "---\n",
        "**Chatbot Médico Inteligente com Google Gemini: Análise de Receitas e Estimativa de Custos**\n",
        "\n",
        "**Visão Geral do Projeto:**\n",
        "\n",
        "Este projeto demonstra a criação de um chatbot interativo utilizando a API Google Gemini para auxiliar usuários a entenderem suas receitas médicas. O chatbot é capaz de:\n",
        "\n",
        "1.  **Processar Documentos PDF:** Aceitar o upload de uma receita médica em formato PDF.\n",
        "2.  **Extrair Informações Relevantes:** Utilizar o poder do modelo multimodal do Gemini para analisar o PDF e extrair uma lista de medicamentos, insumos e equipamentos prescritos, juntamente com suas apresentações e quantidades.\n",
        "3.  **Estimativa de Custos (Simulada):** Com base nos itens extraídos, o chatbot tenta fornecer uma estimativa de custo consultando (de forma simulada neste protótipo) preços em três grandes redes de farmácias brasileiras (Drogasil, Droga Raia, Drogaria São Paulo).\n",
        "4.  **Cálculos Auxiliares (Diabetes):** Oferecer assistência com cálculos relacionados ao tratamento de diabetes, como a dose de insulina baseada na contagem de carboidratos (se os parâmetros forem fornecidos pelo usuário ou extraídos da receita).\n",
        "5.  **Interação Segura:** Fornecer avisos importantes sobre a natureza auxiliar das informações, enfatizando que não substitui o aconselhamento médico profissional.\n",
        "\n",
        "**Tecnologias Utilizadas:**\n",
        "\n",
        "*   **Python:** Linguagem de programação principal.\n",
        "*   **Google Gemini API:** Para as capacidades de IA generativa e análise de documentos.\n",
        "*   **Google Colab:** Ambiente de desenvolvimento e execução do notebook.\n",
        "*   **Bibliotecas Python:** `google-generativeai`, `requests`, `beautifulsoup4`, `lxml` (as últimas três para a implementação *real* de web scraping, aqui usadas conceitualmente).\n",
        "\n",
        "**Objetivo:**\n",
        "\n",
        "O objetivo é criar uma ferramenta que possa facilitar o entendimento de prescrições médicas complexas e oferecer uma ideia inicial de custos, promovendo maior autonomia e informação ao paciente, sempre com foco na segurança e na responsabilidade.\n",
        "\n",
        "**Importante:** A funcionalidade de busca de preços neste notebook é **SIMULADA**. Para uma aplicação real, seria necessário implementar web scraping robusto ou integrar APIs de farmácias."
      ],
      "metadata": {
        "id": "YnJL6mRtIRfc"
      }
    },
    {
      "cell_type": "markdown",
      "source": [
        "## 01. Install Google Gemini SDK"
      ],
      "metadata": {
        "id": "D0XLGoCkbXM3"
      }
    },
    {
      "cell_type": "code",
      "source": [
        "# CELL 1: Install Google Gemini SDK and necessary libraries for potential web scraping\n",
        "\n",
        "# google-genai é um pacote que pode incluir a biblioteca principal ou ser uma dependência.\n",
        "# google-generativeai é a biblioteca principal e mais recente para interagir com a API Gemini.\n",
        "# As outras bibliotecas (requests, beautifulsoup4, lxml) seriam para a implementação\n",
        "# real de web scraping, que aqui é simulada.\n",
        "!pip install google-generativeai requests beautifulsoup4 lxml\n",
        "!pip install google-generativeai"
      ],
      "metadata": {
        "id": "LxdJimFmbTSi",
        "colab": {
          "base_uri": "https://localhost:8080/"
        },
        "outputId": "0d2f400e-a5a7-4943-8519-ea2cc0dfd8d8"
      },
      "execution_count": null,
      "outputs": [
        {
          "output_type": "stream",
          "name": "stdout",
          "text": [
            "Requirement already satisfied: google-generativeai in /usr/local/lib/python3.11/dist-packages (0.8.5)\n",
            "Requirement already satisfied: requests in /usr/local/lib/python3.11/dist-packages (2.32.3)\n",
            "Requirement already satisfied: beautifulsoup4 in /usr/local/lib/python3.11/dist-packages (4.13.4)\n",
            "Requirement already satisfied: lxml in /usr/local/lib/python3.11/dist-packages (5.4.0)\n",
            "Requirement already satisfied: google-ai-generativelanguage==0.6.15 in /usr/local/lib/python3.11/dist-packages (from google-generativeai) (0.6.15)\n",
            "Requirement already satisfied: google-api-core in /usr/local/lib/python3.11/dist-packages (from google-generativeai) (2.24.2)\n",
            "Requirement already satisfied: google-api-python-client in /usr/local/lib/python3.11/dist-packages (from google-generativeai) (2.169.0)\n",
            "Requirement already satisfied: google-auth>=2.15.0 in /usr/local/lib/python3.11/dist-packages (from google-generativeai) (2.38.0)\n",
            "Requirement already satisfied: protobuf in /usr/local/lib/python3.11/dist-packages (from google-generativeai) (5.29.4)\n",
            "Requirement already satisfied: pydantic in /usr/local/lib/python3.11/dist-packages (from google-generativeai) (2.11.4)\n",
            "Requirement already satisfied: tqdm in /usr/local/lib/python3.11/dist-packages (from google-generativeai) (4.67.1)\n",
            "Requirement already satisfied: typing-extensions in /usr/local/lib/python3.11/dist-packages (from google-generativeai) (4.13.2)\n",
            "Requirement already satisfied: proto-plus<2.0.0dev,>=1.22.3 in /usr/local/lib/python3.11/dist-packages (from google-ai-generativelanguage==0.6.15->google-generativeai) (1.26.1)\n",
            "Requirement already satisfied: charset-normalizer<4,>=2 in /usr/local/lib/python3.11/dist-packages (from requests) (3.4.2)\n",
            "Requirement already satisfied: idna<4,>=2.5 in /usr/local/lib/python3.11/dist-packages (from requests) (3.10)\n",
            "Requirement already satisfied: urllib3<3,>=1.21.1 in /usr/local/lib/python3.11/dist-packages (from requests) (2.4.0)\n",
            "Requirement already satisfied: certifi>=2017.4.17 in /usr/local/lib/python3.11/dist-packages (from requests) (2025.4.26)\n",
            "Requirement already satisfied: soupsieve>1.2 in /usr/local/lib/python3.11/dist-packages (from beautifulsoup4) (2.7)\n",
            "Requirement already satisfied: googleapis-common-protos<2.0.0,>=1.56.2 in /usr/local/lib/python3.11/dist-packages (from google-api-core->google-generativeai) (1.70.0)\n",
            "Requirement already satisfied: cachetools<6.0,>=2.0.0 in /usr/local/lib/python3.11/dist-packages (from google-auth>=2.15.0->google-generativeai) (5.5.2)\n",
            "Requirement already satisfied: pyasn1-modules>=0.2.1 in /usr/local/lib/python3.11/dist-packages (from google-auth>=2.15.0->google-generativeai) (0.4.2)\n",
            "Requirement already satisfied: rsa<5,>=3.1.4 in /usr/local/lib/python3.11/dist-packages (from google-auth>=2.15.0->google-generativeai) (4.9.1)\n",
            "Requirement already satisfied: httplib2<1.0.0,>=0.19.0 in /usr/local/lib/python3.11/dist-packages (from google-api-python-client->google-generativeai) (0.22.0)\n",
            "Requirement already satisfied: google-auth-httplib2<1.0.0,>=0.2.0 in /usr/local/lib/python3.11/dist-packages (from google-api-python-client->google-generativeai) (0.2.0)\n",
            "Requirement already satisfied: uritemplate<5,>=3.0.1 in /usr/local/lib/python3.11/dist-packages (from google-api-python-client->google-generativeai) (4.1.1)\n",
            "Requirement already satisfied: annotated-types>=0.6.0 in /usr/local/lib/python3.11/dist-packages (from pydantic->google-generativeai) (0.7.0)\n",
            "Requirement already satisfied: pydantic-core==2.33.2 in /usr/local/lib/python3.11/dist-packages (from pydantic->google-generativeai) (2.33.2)\n",
            "Requirement already satisfied: typing-inspection>=0.4.0 in /usr/local/lib/python3.11/dist-packages (from pydantic->google-generativeai) (0.4.0)\n",
            "Requirement already satisfied: grpcio<2.0dev,>=1.33.2 in /usr/local/lib/python3.11/dist-packages (from google-api-core[grpc]!=2.0.*,!=2.1.*,!=2.10.*,!=2.2.*,!=2.3.*,!=2.4.*,!=2.5.*,!=2.6.*,!=2.7.*,!=2.8.*,!=2.9.*,<3.0.0dev,>=1.34.1->google-ai-generativelanguage==0.6.15->google-generativeai) (1.71.0)\n",
            "Requirement already satisfied: grpcio-status<2.0.dev0,>=1.33.2 in /usr/local/lib/python3.11/dist-packages (from google-api-core[grpc]!=2.0.*,!=2.1.*,!=2.10.*,!=2.2.*,!=2.3.*,!=2.4.*,!=2.5.*,!=2.6.*,!=2.7.*,!=2.8.*,!=2.9.*,<3.0.0dev,>=1.34.1->google-ai-generativelanguage==0.6.15->google-generativeai) (1.71.0)\n",
            "Requirement already satisfied: pyparsing!=3.0.0,!=3.0.1,!=3.0.2,!=3.0.3,<4,>=2.4.2 in /usr/local/lib/python3.11/dist-packages (from httplib2<1.0.0,>=0.19.0->google-api-python-client->google-generativeai) (3.2.3)\n",
            "Requirement already satisfied: pyasn1<0.7.0,>=0.6.1 in /usr/local/lib/python3.11/dist-packages (from pyasn1-modules>=0.2.1->google-auth>=2.15.0->google-generativeai) (0.6.1)\n"
          ]
        }
      ]
    },
    {
      "cell_type": "markdown",
      "source": [
        "## 02. Importing Libraries"
      ],
      "metadata": {
        "id": "MX8d3WmXcJ3V"
      }
    },
    {
      "cell_type": "code",
      "source": [
        "# CELL 2: Importing Libraries\n",
        "\n",
        "import os\n",
        "import json # Para parsear (interpretar) strings JSON retornadas pelo LLM\n",
        "import re   # Para usar expressões regulares (buscar padrões em texto, como números)\n",
        "import time # Para adicionar pausas (útil em web scraping real para não sobrecarregar servidores)\n",
        "import math # Para funções matemáticas como math.ceil (arredondar para cima)\n",
        "\n",
        "from google.colab import userdata # Para acessar \"Secrets\" no Colab (API Keys)\n",
        "from google.colab import files    # Para permitir o upload de arquivos do computador do usuário para o Colab\n",
        "import google.generativeai as genai # Biblioteca principal da API Gemini\n",
        "from google.api_core import exceptions # Para tratar erros específicos da API do Google\n",
        "\n",
        "# Bibliotecas para Web Scraping (usadas conceitualmente aqui, mas importantes para a versão real)\n",
        "import requests # Para fazer requisições HTTP (buscar páginas da web)\n",
        "from bs4 import BeautifulSoup # Para parsear HTML e extrair dados de páginas web"
      ],
      "metadata": {
        "id": "8DfkZn3tdnis"
      },
      "execution_count": null,
      "outputs": []
    },
    {
      "cell_type": "code",
      "source": [
        "# CELL 3: Para verificar a versão instalada\n",
        "\n",
        "print(f\"Versão da biblioteca google-generativeai: {genai.__version__}\")"
      ],
      "metadata": {
        "colab": {
          "base_uri": "https://localhost:8080/"
        },
        "id": "_-wdWcM0BbTX",
        "outputId": "826cd410-d615-42b8-f176-07afc3013d71"
      },
      "execution_count": null,
      "outputs": [
        {
          "output_type": "stream",
          "name": "stdout",
          "text": [
            "Versão da biblioteca google-generativeai: 0.8.5\n"
          ]
        }
      ]
    },
    {
      "cell_type": "markdown",
      "source": [
        "## 03. Importing API KEY Gemini"
      ],
      "metadata": {
        "id": "4DkneMB3eHPi"
      }
    },
    {
      "cell_type": "code",
      "source": [
        "# CELL 4: Importing API KEY Gemini and Configuring the SDK\n",
        "\n",
        "# Obtém a GOOGLE_API_KEY armazenada nos \"Secrets\" do Google Colab.\n",
        "# É uma prática de segurança não colocar chaves de API diretamente no código.\n",
        "GOOGLE_API_KEY = userdata.get('GOOGLE_API_KEY')\n",
        "\n",
        "# A linha abaixo é opcional se genai.configure() for usado, mas pode ser útil em alguns contextos.\n",
        "# os.environ['GOOGLE_API_KEY'] = GOOGLE_API_KEY\n",
        "\n",
        "# Configura a biblioteca Gemini com a chave de API.\n",
        "if GOOGLE_API_KEY:\n",
        "    genai.configure(api_key=GOOGLE_API_KEY)\n",
        "    print(\"Chave API configurada com sucesso!\")\n",
        "else:\n",
        "    # Alerta o usuário se a chave não for encontrada. O chatbot não funcionará sem ela.\n",
        "    print(\"ERRO: GOOGLE_API_KEY não encontrada nos Secrets do Colab.\")\n",
        "    print(\"Por favor, adicione sua GOOGLE_API_KEY aos Secrets do Colab para continuar.\")\n",
        "    # Em um script real, você poderia levantar um erro aqui para parar a execução:\n",
        "    # raise ValueError(\"GOOGLE_API_KEY não encontrada. Interrompendo.\")"
      ],
      "metadata": {
        "colab": {
          "base_uri": "https://localhost:8080/"
        },
        "id": "pmv5x75TdCTt",
        "outputId": "c93c7484-3bfa-4326-dd30-bd487e0a65e2"
      },
      "execution_count": null,
      "outputs": [
        {
          "output_type": "stream",
          "name": "stdout",
          "text": [
            "Chave API configurada com sucesso!\n"
          ]
        }
      ]
    },
    {
      "cell_type": "markdown",
      "source": [
        "## 04. Importing Models\n",
        "\n",
        "This code block demonstrates the essential steps to interact with the Gemini API\n",
        "and generate content from a specific model."
      ],
      "metadata": {
        "id": "DD3EYNgkfVTp"
      }
    },
    {
      "cell_type": "code",
      "source": [
        "# CELL 5: Listing all Google Gemini Models available\n",
        "\n",
        "\"\"\"\n",
        "The general flow is:\n",
        "1.  (Optional, but recommended for exploration): List available models.\n",
        "    This can be done with a loop like:\n",
        "    for available_model in client.models.list():\n",
        "        print(available_model.name)\n",
        "    This step helps identify the correct names of the models you can use.\n",
        "\"\"\"\n",
        "\n",
        "print(\"Modelos disponíveis que suportam 'generateContent':\")\n",
        "\n",
        "for m in genai.list_models():\n",
        "  # Você pode querer filtrar modelos que podem gerar conteúdo, por exemplo\n",
        "  if 'generateContent' in m.supported_generation_methods:\n",
        "    print(m.name)"
      ],
      "metadata": {
        "colab": {
          "base_uri": "https://localhost:8080/",
          "height": 788
        },
        "id": "6Y7RSL6CfM4k",
        "outputId": "cb7ffe80-7df3-4b68-9a6d-c50e63d2b65a"
      },
      "execution_count": null,
      "outputs": [
        {
          "output_type": "stream",
          "name": "stdout",
          "text": [
            "Modelos disponíveis que suportam 'generateContent':\n",
            "models/gemini-1.0-pro-vision-latest\n",
            "models/gemini-pro-vision\n",
            "models/gemini-1.5-pro-latest\n",
            "models/gemini-1.5-pro-001\n",
            "models/gemini-1.5-pro-002\n",
            "models/gemini-1.5-pro\n",
            "models/gemini-1.5-flash-latest\n",
            "models/gemini-1.5-flash-001\n",
            "models/gemini-1.5-flash-001-tuning\n",
            "models/gemini-1.5-flash\n",
            "models/gemini-1.5-flash-002\n",
            "models/gemini-1.5-flash-8b\n",
            "models/gemini-1.5-flash-8b-001\n",
            "models/gemini-1.5-flash-8b-latest\n",
            "models/gemini-1.5-flash-8b-exp-0827\n",
            "models/gemini-1.5-flash-8b-exp-0924\n",
            "models/gemini-2.5-pro-exp-03-25\n",
            "models/gemini-2.5-pro-preview-03-25\n",
            "models/gemini-2.5-flash-preview-04-17\n",
            "models/gemini-2.5-flash-preview-04-17-thinking\n",
            "models/gemini-2.5-pro-preview-05-06\n",
            "models/gemini-2.0-flash-exp\n",
            "models/gemini-2.0-flash\n",
            "models/gemini-2.0-flash-001\n",
            "models/gemini-2.0-flash-exp-image-generation\n",
            "models/gemini-2.0-flash-lite-001\n",
            "models/gemini-2.0-flash-lite\n",
            "models/gemini-2.0-flash-preview-image-generation\n",
            "models/gemini-2.0-flash-lite-preview-02-05\n",
            "models/gemini-2.0-flash-lite-preview\n",
            "models/gemini-2.0-pro-exp\n",
            "models/gemini-2.0-pro-exp-02-05\n",
            "models/gemini-exp-1206\n",
            "models/gemini-2.0-flash-thinking-exp-01-21\n",
            "models/gemini-2.0-flash-thinking-exp\n",
            "models/gemini-2.0-flash-thinking-exp-1219\n",
            "models/learnlm-2.0-flash-experimental\n",
            "models/gemma-3-1b-it\n",
            "models/gemma-3-4b-it\n",
            "models/gemma-3-12b-it\n",
            "models/gemma-3-27b-it\n"
          ]
        }
      ]
    },
    {
      "cell_type": "code",
      "source": [
        "# CELL 6: Define the model name for the API call.\n",
        "\n",
        "# Escolhemos um modelo da API Gemini.\n",
        "# Modelos como \"gemini-1.5-flash-latest\" ou \"gemini-1.5-pro-latest\" são boas escolhas\n",
        "# por suportarem multimodalidade (processamento de arquivos como PDF) e seguirem bem as instruções.\n",
        "# O modelo \"gemini-2.0-flash\" usado originalmente pode ser uma versão experimental ou mais antiga.\n",
        "# Recomenda-se verificar a documentação oficial para os modelos mais recentes e suas capacidades.\n",
        "\n",
        "model_name = \"models/gemini-2.0-flash\" # Atualizado para um modelo recomendado\n",
        "\n",
        "print(f\"Modelo selecionado: {model_name}\")"
      ],
      "metadata": {
        "colab": {
          "base_uri": "https://localhost:8080/"
        },
        "id": "LH0ij4m_gBLl",
        "outputId": "f06ac951-02f4-4f7c-a2a2-7529f3b26225"
      },
      "execution_count": null,
      "outputs": [
        {
          "output_type": "stream",
          "name": "stdout",
          "text": [
            "Modelo selecionado: models/gemini-2.0-flash\n"
          ]
        }
      ]
    },
    {
      "cell_type": "markdown",
      "source": [
        "## 05. ChatBot Create\n",
        "\n",
        "Definição do \"Cérebro\" do Chatbot: Instrução do Sistema e Configurações\n",
        "\n",
        "Esta é uma das partes mais importantes. A `system_instruction` é um prompt detalhado que guia o comportamento do modelo Gemini. Definimos aqui como ele deve interagir, processar documentos, lidar com cálculos, e quais são suas limitações.\n",
        "\n",
        "Também configuramos:\n",
        "*   `generation_config`: Parâmetros como `temperature` (criatividade vs. factualidade).\n",
        "*   `safety_settings`: Para filtrar conteúdo indesejado.\n",
        "*   `model_instance`: Criamos a instância do modelo com todas essas configurações.\n",
        "*   `chat`: Iniciamos uma sessão de chat com o modelo."
      ],
      "metadata": {
        "id": "Mbm_0d0ImdUQ"
      }
    },
    {
      "cell_type": "code",
      "source": [
        "# CELL 7: System Instruction, Generation Config, Safety Settings, and Model Initialization\n",
        "\n",
        "system_instruction_diabetes = \"\"\"\n",
        "Você é um assistente pessoal especializado em diabetes, projetado para ser conciso, útil e, acima de tudo, seguro.\n",
        "Seu objetivo é auxiliar usuários a entenderem melhor sua condição e tratamento, com base nas informações que eles fornecem, incluindo o conteúdo de documentos médicos (como receitas em PDF) que eles podem fazer upload.\n",
        "\n",
        "REGRAS DE INTERAÇÃO:\n",
        "\n",
        "1.  PROCESSAMENTO DE DOCUMENTOS (PDFs, etc.):\n",
        "    *   Se o usuário fizer upload de um documento (ex: receita médica em PDF), VOCÊ DEVE analisar o conteúdo desse documento para responder às perguntas relacionadas a ele.\n",
        "    *   Extraia informações relevantes como: nomes de medicamentos, insumos médicos, equipamentos, suas dosagens/apresentações, frequência de uso, quantidades prescritas (mensais ou totais), instruções específicas, relação insulina/carboidrato, fator de sensibilidade, meta glicêmica, etc.\n",
        "    *   Ao responder, mencione que a informação foi extraída do documento fornecido para dar contexto.\n",
        "    *   Se o documento não contiver a informação solicitada, informe isso claramente.\n",
        "    *   Se você não conseguir processar ou entender uma parte do documento, informe o usuário.\n",
        "\n",
        "2.  EXTRAÇÃO PARA CONSULTA DE PREÇOS PELO SISTEMA EXTERNO:\n",
        "    *   Após analisar uma receita, se o sistema Python solicitar, VOCÊ DEVE listar todos os medicamentos, insumos médicos e equipamentos mencionados, incluindo suas apresentações/dosagens e as quantidades prescritas (ex: mensais, por ciclo, ou compra única).\n",
        "    *   **Forneça esta lista em formato JSON**, se solicitado pelo sistema. Cada item da lista deve ser um objeto com, no mínimo, as chaves: \"item\" (string, nome do produto), \"apresentacao\" (string, ex: \"100 UI/mL\", \"4mm\", ou null se não aplicável), e \"quantidade_descrita\" (string, ex: \"5 canetas\", \"200 agulhas mensais\", \"1 aparelho\"). Se possível, adicione uma chave \"tipo\" (string: \"medicamento\", \"insumo\", \"equipamento\").\n",
        "    *   Esta lista será usada pelo sistema Python para tentar buscar uma estimativa de preços em sites de farmácias. Você (o LLM) não fará a busca de preços diretamente na web.\n",
        "\n",
        "3.  DOSAGEM DE INSULINA E CÁLCULOS:\n",
        "    *   Se o usuário perguntar sobre cálculo de dose de insulina e tiver fornecido um documento com os parâmetros (Relação Insulina/Carboidrato, Fator de Sensibilidade, Meta Glicêmica),\n",
        "        utilize ESSES DADOS do documento para o cálculo.\n",
        "    *   Se o documento não contiver todos os parâmetros necessários, ou se o usuário não fornecer um documento, mas fornecer os parâmetros NUMÉRICOS diretamente, você PODE realizar um\n",
        "        cálculo auxiliar baseado EXCLUSIVAMENTE nos números fornecidos.\n",
        "    *   Pergunte pela glicemia atual SOMENTE se o cálculo for para correção de hiperglicemia e essa informação não estiver no documento ou não for fornecida.\n",
        "    *   SEMPRE após qualquer cálculo de dose, exiba o seguinte AVISO EM NEGRITO E COM DESTAQUE:\n",
        "        '**ATENÇÃO: Este é um cálculo auxiliar baseado ESTRITAMENTE nas informações fornecidas (seja do documento ou diretamente por você). Ele serve APENAS como uma referência e\n",
        "        NÃO substitui, de forma alguma, o aconselhamento médico profissional, a consulta com seu médico ou educador em diabetes, nem sua própria responsabilidade e julgamento.\n",
        "        SEMPRE confirme todos os cálculos e a dosagem final com seu profissional de saúde antes de administrar qualquer insulina. A decisão final e a responsabilidade pela\n",
        "        dosagem são SUAS e do seu profissional de saúde.**'\n",
        "\n",
        "4.  SEGURANÇA E LIMITAÇÕES:\n",
        "    *   Se o usuário não fornecer um documento nem os parâmetros numéricos para cálculo de dose, ou se a pergunta for muito genérica sobre dosagem sem dados concretos,\n",
        "        REFORCE que você não pode fornecer conselhos médicos específicos sobre dosagem sem esses dados e que ele DEVE consultar um profissional de saúde.\n",
        "    *   NÃO FAÇA DIAGNÓSTICOS. NÃO SUGIRA ALTERAÇÕES DE TRATAMENTO.\n",
        "    *   Para todas as outras perguntas (o que é diabetes, tipos de alimentos, etc.), responda de forma informativa e útil, mas evite qualquer coisa que possa ser interpretada\n",
        "        como conselho médico específico não embasado nos dados fornecidos pelo usuário/documento.\n",
        "\n",
        "5.  TOM E CONCISÃO:\n",
        "    *   Mantenha um tom empático, mas firme quanto às questões de segurança.\n",
        "    *   Seja o mais conciso possível em suas respostas, mas sem perder a clareza e a utilidade.\n",
        "\"\"\"\n",
        "\n",
        "# Configuração de como o modelo deve gerar as respostas.\n",
        "generation_config = genai.types.GenerationConfig(\n",
        "    temperature=0.2 # Baixa temperatura para extração factual e JSON\n",
        ")\n",
        "\n",
        "# Define quais tipos de conteúdo prejudicial devem ser bloqueados e com qual rigor.\n",
        "safety_settings = [\n",
        "    {\"category\": \"HARM_CATEGORY_HARASSMENT\", \"threshold\": \"BLOCK_MEDIUM_AND_ABOVE\"},\n",
        "    {\"category\": \"HARM_CATEGORY_HATE_SPEECH\", \"threshold\": \"BLOCK_MEDIUM_AND_ABOVE\"},\n",
        "    {\"category\": \"HARM_CATEGORY_SEXUALLY_EXPLICIT\", \"threshold\": \"BLOCK_MEDIUM_AND_ABOVE\"},\n",
        "    {\"category\": \"HARM_CATEGORY_DANGEROUS_CONTENT\", \"threshold\": \"BLOCK_MEDIUM_AND_ABOVE\"},\n",
        "]\n",
        "\n",
        "# Cria a instância do modelo generativo com todas as configurações definidas.\n",
        "model_instance = genai.GenerativeModel(\n",
        "    model_name=model_name,\n",
        "    generation_config=generation_config,\n",
        "    system_instruction=system_instruction_diabetes,\n",
        "    safety_settings=safety_settings\n",
        ")\n",
        "\n",
        "# Inicia uma sessão de chat com o modelo. O histórico da conversa será mantido neste objeto.\n",
        "chat = model_instance.start_chat(history=[])\n",
        "\n",
        "print(f\"Chatbot Auxiliar de Diabetes (Modelo: {model_name}) pronto!\")\n",
        "print(\"Digite sua pergunta ou 'fim' para sair.\")\n",
        "print(\"Se quiser que eu analise uma receita, digite 'upload' e siga as instruções.\")\n",
        "print(\"-\" * 70)"
      ],
      "metadata": {
        "colab": {
          "base_uri": "https://localhost:8080/"
        },
        "id": "6PQQM9jl5dtH",
        "outputId": "d1f6319a-e73d-41a9-9531-faab1a296df5"
      },
      "execution_count": null,
      "outputs": [
        {
          "output_type": "stream",
          "name": "stdout",
          "text": [
            "Chatbot Auxiliar de Diabetes (Modelo: models/gemini-2.0-flash) pronto!\n",
            "Digite sua pergunta ou 'fim' para sair.\n",
            "Se quiser que eu analise uma receita, digite 'upload' e siga as instruções.\n",
            "----------------------------------------------------------------------\n"
          ]
        }
      ]
    },
    {
      "cell_type": "markdown",
      "source": [
        "### Funções Auxiliares: Extração de Quantidade e Simulação de Busca de Preços\n",
        "\n",
        "Antes do loop principal do chat, definimos algumas funções Python que nos ajudarão:\n",
        "\n",
        "1.  **`extrair_info_quantidade`**: Tenta extrair de uma string (como \"2 caixas com 50 unidades\" ou \"5 canetas\") o número principal de embalagens e, se aplicável, quantas unidades básicas (comprimidos, ml, agulhas) existem em cada embalagem. Isso é crucial para calcular o custo total corretamente.\n",
        "2.  **`simular_preco_unitario_embalagem_farmacia_v2`**: **Esta função SIMULA a busca do preço da embalagem padrão de um item em uma farmácia específica.** Em uma aplicação real, esta função conteria a lógica complexa de web scraping (usando `requests` e `BeautifulSoup`) ou chamadas a APIs de farmácias. Para este protótipo, ela retorna preços e informações de embalagem pré-definidos (hardcoded) com uma pequena variação para simular diferentes farmácias.\n",
        "3.  **`obter_precos_simulados_farmacias_v3`**: Orquestra a chamada à função de simulação para as três redes de farmácias alvo (Drogasil, Droga Raia, Drogaria São Paulo).\n",
        "\n",
        "**Importante sobre a Simulação de Preços:**\n",
        "\n",
        "*   Os preços retornados são **FICTÍCIOS** e servem apenas para demonstrar o fluxo do chatbot.\n",
        "*   A lógica de correspondência de produtos e a estrutura de preços são simplificadas.\n",
        "*   Uma implementação real exigiria um esforço significativo para desenvolver e manter os web scrapers ou integrações com APIs."
      ],
      "metadata": {
        "id": "ozKJRxPRMY5K"
      }
    },
    {
      "cell_type": "code",
      "source": [
        "# CELL 8: Funções Auxiliares e de Scraping (Simuladas) - COM LÓGICA DE CÁLCULO AJUSTADA\n",
        "\n",
        "# Variável global para armazenar os itens extraídos da receita atual\n",
        "itens_da_receita_atual = None\n",
        "\n",
        "def extrair_info_quantidade(texto_quantidade_descrita, nome_item_para_contexto=\"\"):\n",
        "    \"\"\"\n",
        "    Extrai o número principal de unidades/embalagens da receita E a quantidade de unidades\n",
        "    por embalagem, se especificado (ex: \"caixa com 50\").\n",
        "    Retorna (numero_embalagens_receita, unidades_por_embalagem_na_receita_se_aplicavel)\n",
        "    \"\"\"\n",
        "    if not texto_quantidade_descrita:\n",
        "        return 1, None # 1 embalagem, unidades por embalagem não especificadas\n",
        "\n",
        "    texto_lower = str(texto_quantidade_descrita).lower()\n",
        "\n",
        "    numero_embalagens = 1\n",
        "    unidades_por_embalagem_receita = None\n",
        "\n",
        "    # Tenta encontrar \"X caixas/embalagens com Y unidades\"\n",
        "    # Ex: \"2 caixas com 50 unidades\", \"3 refis de 3ml\" (aqui 3ml é detalhe da apresentação)\n",
        "    match_complexo = re.search(r'(\\d+)\\s*(caixas?|cx|embalagens?|frascos?|bisnagas?|potes?|sachês?)\\s*(com|de|contendo)\\s*(\\d+)\\s*(unidades?|un|comp|cápsulas|ml|g|mg|mcg)', texto_lower)\n",
        "    if match_complexo:\n",
        "        numero_embalagens = int(match_complexo.group(1))\n",
        "        unidades_por_embalagem_receita = int(match_complexo.group(4))\n",
        "    else:\n",
        "        # Se não for complexo, pega o primeiro número como número de embalagens/itens principais\n",
        "        match_simples = re.search(r'(\\d+)', texto_lower)\n",
        "        if match_simples:\n",
        "            numero_embalagens = int(match_simples.group(0))\n",
        "            # Tenta ver se há uma quantidade unitária após (ex: \"agulhas de 4mm\")\n",
        "            # Esta parte é mais difícil de generalizar sem contexto do DB de preços.\n",
        "            # Por ora, focamos no número principal de embalagens.\n",
        "\n",
        "    return numero_embalagens, unidades_por_embalagem_receita\n",
        "\n",
        "\n",
        "# --- FUNÇÕES DE SCRAPING (SIMULADAS) ---\n",
        "# A simulação agora focará em retornar o PREÇO UNITÁRIO DA EMBALAGEM DE VENDA\n",
        "# e, crucialmente, QUANTAS UNIDADES BÁSICAS (comprimidos, ml, agulhas) ESSA EMBALAGEM CONTÉM.\n",
        "def simular_preco_unitario_embalagem_farmacia_v2(nome_farmacia, nome_produto_query):\n",
        "    \"\"\"\n",
        "    Simula o PREÇO UNITÁRIO DA EMBALAGEM de venda em uma farmácia e\n",
        "    QUANTAS UNIDADES BÁSICAS (ex: comprimidos, ml, agulhas) essa embalagem contém.\n",
        "    \"\"\"\n",
        "    #print(f\"DEBUG: [SIMULAÇÃO] Buscando preço unit. embalagem '{nome_produto_query}' na {nome_farmacia}...\")\n",
        "    time.sleep(0.1) # Simula delay\n",
        "\n",
        "    preco_unit_embalagem = None\n",
        "    unidades_na_embalagem_db = 1 # Default: embalagem contém 1 unidade básica (ex: 1 caneta, 1 sensor)\n",
        "    unidade_basica_db = \"unidade\" # Default: \"unidade\"\n",
        "\n",
        "    nome_produto_query_lower = nome_produto_query.lower().strip()\n",
        "    nome_base_produto = re.sub(r'\\b\\d+\\s*(canetas?|refis|agulhas|sensores|caixas|comprimidos|unidades|ml|mg|g)\\b', '', nome_produto_query_lower, flags=re.IGNORECASE).strip()\n",
        "    nome_base_produto = re.sub(r'\\s\\s+', ' ', nome_base_produto)\n",
        "\n",
        "    #print(f\"DEBUG: [SIMULAÇÃO] Nome base para busca de preço unitário: '{nome_base_produto}'\")\n",
        "\n",
        "    # SIMULAÇÃO DE PREÇOS E UNIDADES POR EMBALAGEM NO \"BANCO DE DADOS\" DA FARMÁCIA\n",
        "    if \"insulina degludeca\" in nome_base_produto or \"tresiba\" in nome_base_produto:\n",
        "        preco_unit_embalagem = round(140.00 + hash(nome_farmacia + nome_base_produto) % 20, 2)\n",
        "        unidades_na_embalagem_db = 1; unidade_basica_db = \"caneta\"\n",
        "    elif \"insulina fiasp\" in nome_base_produto:\n",
        "        preco_unit_embalagem = round(65.00 + hash(nome_farmacia + nome_base_produto) % 15, 2)\n",
        "        unidades_na_embalagem_db = 1; unidade_basica_db = \"refil/caneta\"\n",
        "    elif \"agulhas para caneta de insulina\" in nome_base_produto or \"agulha\" in nome_base_produto:\n",
        "        preco_unit_embalagem = round(25.00 + hash(nome_farmacia + nome_base_produto) % 5, 2) # Preço da CAIXA\n",
        "        unidades_na_embalagem_db = 100; unidade_basica_db = \"agulha\" # Caixa com 100 agulhas\n",
        "    elif \"sensor de glicose intersticial freestyle libre\" in nome_base_produto:\n",
        "        preco_unit_embalagem = round(280.00 + hash(nome_farmacia + nome_base_produto) % 30, 2)\n",
        "        unidades_na_embalagem_db = 1; unidade_basica_db = \"sensor\"\n",
        "    elif \"tiras reagentes para freestyle optium neo abbot\" in nome_base_produto:\n",
        "        preco_unit_embalagem = round(70.00 + hash(nome_farmacia + nome_base_produto) % 10, 2) # Preço da CAIXA\n",
        "        unidades_na_embalagem_db = 50; unidade_basica_db = \"tira\" # Caixa com 50 tiras\n",
        "    elif \"monitor freestyle libre\" in nome_base_produto:\n",
        "        preco_unit_embalagem = round(250.00 + hash(nome_farmacia + nome_base_produto) % 20, 2)\n",
        "        unidades_na_embalagem_db = 1; unidade_basica_db = \"aparelho\"\n",
        "    elif \"losartana potassica 50mg\" in nome_base_produto or \"losartana 50mg\" in nome_base_produto: # Exemplo cardio\n",
        "        preco_unit_embalagem = round(15.00 + hash(nome_farmacia + nome_base_produto) % 5, 2) # Preço da CAIXA\n",
        "        unidades_na_embalagem_db = 30; unidade_basica_db = \"comprimido\" # Caixa com 30 comprimidos\n",
        "    elif \"sinvastatina 20mg\" in nome_base_produto: # Exemplo cardio\n",
        "        preco_unit_embalagem = round(20.00 + hash(nome_farmacia + nome_base_produto) % 7, 2) # Preço da CAIXA\n",
        "        unidades_na_embalagem_db = 30; unidade_basica_db = \"comprimido\" # Caixa com 30 comprimidos\n",
        "\n",
        "    if preco_unit_embalagem is not None:\n",
        "        link_simulado_query = nome_base_produto.replace(' ', '+') if nome_base_produto else nome_produto_query.replace(' ', '+')\n",
        "        return {\n",
        "            \"farmacia\": nome_farmacia,\n",
        "            \"produto_buscado_sim\": nome_base_produto if nome_base_produto else nome_produto_query,\n",
        "            \"preco_embalagem_sim\": preco_unit_embalagem,\n",
        "            \"unidades_por_embalagem_sim\": unidades_na_embalagem_db,\n",
        "            \"unidade_basica_sim\": unidade_basica_db,\n",
        "            \"link_simulado\": f\"https://www.{nome_farmacia.lower().replace(' ', '')}.com.br/search?w={link_simulado_query}\"\n",
        "        }\n",
        "    return None\n",
        "\n",
        "def obter_precos_simulados_farmacias_v3(item_info_extraida):\n",
        "    \"\"\"\n",
        "    Chama as funções de scraping (simuladas) para as farmácias e retorna\n",
        "    uma lista de dicts com \"preco_embalagem_sim\" e \"unidades_por_embalagem_sim\".\n",
        "    \"\"\"\n",
        "    nome_item = item_info_extraida.get(\"item\")\n",
        "    apresentacao = item_info_extraida.get(\"apresentacao\") # Pode ser usado para refinar a query\n",
        "\n",
        "    if not nome_item:\n",
        "        return []\n",
        "\n",
        "    # A query para simulação de preço deve ser o mais próximo possível do que o usuário veria na farmácia\n",
        "    # para a embalagem padrão.\n",
        "    query_para_preco_embalagem = f\"{nome_item} {apresentacao if apresentacao else ''}\".strip()\n",
        "\n",
        "    resultados_farmacias = []\n",
        "    farmacias_para_buscar = [\"Drogasil\", \"Droga Raia\", \"Drogaria Sao Paulo\"]\n",
        "\n",
        "    for nome_farmacia in farmacias_para_buscar:\n",
        "        try:\n",
        "            resultado_sim = simular_preco_unitario_embalagem_farmacia_v2(nome_farmacia, query_para_preco_embalagem)\n",
        "            if resultado_sim:\n",
        "                resultados_farmacias.append(resultado_sim)\n",
        "        except Exception as e_scrape_sim:\n",
        "            print(f\"DEBUG: Erro ao simular scraping com {nome_farmacia} para '{query_para_preco_embalagem}': {e_scrape_sim}\")\n",
        "\n",
        "    return resultados_farmacias"
      ],
      "metadata": {
        "id": "m2FWEAEm-DUQ"
      },
      "execution_count": null,
      "outputs": []
    },
    {
      "cell_type": "markdown",
      "source": [
        "### Loop Interativo Principal do Chatbot\n",
        "\n",
        "A célula abaixo contém o loop `while True` que mantém o chatbot em execução, aguardando a entrada do usuário. Ela lida com:\n",
        "\n",
        "1.  **Entrada do Usuário:** Captura o que o usuário digita.\n",
        "2.  **Comando \"fim\":** Encerra o chat e tenta limpar arquivos no servidor Gemini.\n",
        "3.  **Comando \"upload\":**\n",
        "    *   Permite ao usuário enviar um arquivo PDF (receita).\n",
        "    *   O arquivo é salvo temporariamente no Colab.\n",
        "    *   É feito o upload do arquivo para a API Gemini.\n",
        "    *   **Extração de Itens:** Um prompt específico é enviado ao Gemini para analisar o PDF e retornar uma lista de medicamentos/insumos em formato JSON. Essa lista é armazenada para uso posterior na estimativa de preços.\n",
        "    *   O arquivo temporário no Colab é removido.\n",
        "4.  **Estimativa de Preços:**\n",
        "    *   Se o usuário pergunta sobre \"preço\", \"custo\", etc., e uma lista de itens foi extraída anteriormente:\n",
        "        *   Para cada item da lista, a função `obter_precos_simulados_farmacias_v3` é chamada.\n",
        "        *   Esta função (atualmente simulada) \"consulta\" as três farmácias.\n",
        "        *   A lógica calcula o número de embalagens necessárias com base na quantidade da receita e no conteúdo das embalagens (simulado).\n",
        "        *   O custo total para o item é estimado (preço da embalagem * número de embalagens).\n",
        "        *   Um resumo dos custos por item e um total geral para a receita são apresentados, com **avisos importantes sobre a natureza simulada dos preços**.\n",
        "5.  **Perguntas Gerais:**\n",
        "    *   Para outras perguntas, o prompt do usuário (e o arquivo PDF, se carregado) é enviado ao Gemini para uma resposta conversacional.\n",
        "\n",
        "**Gerenciamento de Arquivos:** O chatbot tenta deletar arquivos do servidor Gemini quando um novo é carregado ou quando o chat é encerrado, para gerenciar os recursos."
      ],
      "metadata": {
        "id": "2PTlB9dYMs_Z"
      }
    },
    {
      "cell_type": "code",
      "source": [
        "# CELL 9: Interactive Chat Loop with PDF processing & Corrected Price Calculation\n",
        "\n",
        "# Globais, se não definidos na célula anterior, defina aqui:\n",
        "if 'uploaded_file_gemini' not in globals():\n",
        "    uploaded_file_gemini = None\n",
        "if 'current_colab_temp_filename' not in globals():\n",
        "    current_colab_temp_filename = None\n",
        "if 'itens_da_receita_atual' not in globals():\n",
        "    itens_da_receita_atual = None\n",
        "\n",
        "\n",
        "while True:\n",
        "    prompt_usuario = input(\"Você: \").strip()\n",
        "    if not prompt_usuario:\n",
        "        continue\n",
        "\n",
        "    if prompt_usuario.lower() == \"fim\":\n",
        "        print(\"Chatbot: Até logo! Lembre-se de sempre consultar seu médico para questões de saúde.\")\n",
        "        if uploaded_file_gemini:\n",
        "            try:\n",
        "                print(f\"Chatbot: Tentando remover o arquivo '{uploaded_file_gemini.display_name}' (ID: {uploaded_file_gemini.name}) do servidor Gemini...\")\n",
        "                genai.delete_file(uploaded_file_gemini.name)\n",
        "                print(f\"Chatbot: Arquivo '{uploaded_file_gemini.display_name}' removido com sucesso.\")\n",
        "            except Exception as e_del:\n",
        "                print(f\"Chatbot: Aviso - não foi possível remover o arquivo '{uploaded_file_gemini.display_name}': {e_del}\")\n",
        "        break\n",
        "\n",
        "    # Lógica para upload de arquivo\n",
        "    if \"upload\" in prompt_usuario.lower() or \"carregar arquivo\" in prompt_usuario.lower():\n",
        "        itens_da_receita_atual = None # Resetar ao fazer novo upload\n",
        "        # ... (restante da lógica de upload e extração JSON como na sua última versão fornecida) ...\n",
        "        # ... Certifique-se que a extração JSON popule `itens_da_receita_atual` ...\n",
        "        print(\"Chatbot: Por favor, selecione o arquivo (PDF, TXT, etc.) da sua receita para upload.\")\n",
        "        try:\n",
        "            uploaded_colab_files = files.upload()\n",
        "            if not uploaded_colab_files:\n",
        "                print(\"Chatbot: Nenhum arquivo foi selecionado.\")\n",
        "                continue\n",
        "\n",
        "            colab_filename = next(iter(uploaded_colab_files))\n",
        "            file_bytes = uploaded_colab_files[colab_filename]\n",
        "            current_colab_temp_filename = colab_filename\n",
        "\n",
        "            with open(current_colab_temp_filename, 'wb') as f_temp:\n",
        "                f_temp.write(file_bytes)\n",
        "\n",
        "            print(f\"Chatbot: Arquivo '{colab_filename}' recebido. Enviando para análise do Gemini...\")\n",
        "            if uploaded_file_gemini:\n",
        "                try: genai.delete_file(uploaded_file_gemini.name)\n",
        "                except: pass\n",
        "                uploaded_file_gemini = None\n",
        "\n",
        "            uploaded_file_gemini = genai.upload_file(path=current_colab_temp_filename, display_name=colab_filename)\n",
        "            print(f\"Chatbot: Arquivo '{uploaded_file_gemini.display_name}' enviado ao Gemini.\")\n",
        "\n",
        "            try:\n",
        "                os.remove(current_colab_temp_filename)\n",
        "                current_colab_temp_filename = None\n",
        "            except: pass\n",
        "\n",
        "            if uploaded_file_gemini:\n",
        "                print(\"Chatbot: Analisando a receita para extrair a lista de medicamentos e insumos...\")\n",
        "                try:\n",
        "                    prompt_extracao_json = (\n",
        "                        \"Com base no documento que acabei de fornecer, por favor, identifique e liste todos os medicamentos, \"\n",
        "                        \"insumos médicos e equipamentos prescritos. Para cada item, forneça: \"\n",
        "                        \"1. O nome do item (chave 'item'). \"\n",
        "                        \"2. A apresentação ou dosagem, se aplicável (chave 'apresentacao'). \"\n",
        "                        \"3. A quantidade descrita na receita (ex: '3 canetas mensais', '1 caixa com 100 agulhas', '1 aparelho') (chave 'quantidade_descrita'). \"\n",
        "                        \"4. O tipo de item (ex: 'medicamento', 'insumo', 'equipamento') (chave 'tipo'). \"\n",
        "                        \"Formate sua resposta como uma lista de objetos JSON válidos. Certifique-se de que o JSON seja válido e completo.\"\n",
        "                    )\n",
        "                    resposta_extracao = chat.send_message([prompt_extracao_json, uploaded_file_gemini])\n",
        "\n",
        "                    texto_resposta_extracao = resposta_extracao.text\n",
        "                    #print(f\"DEBUG: Resposta crua da extração JSON: {texto_resposta_extracao[:300]}...\")\n",
        "\n",
        "                    match_json = re.search(r'```json\\s*([\\s\\S]*?)\\s*```', texto_resposta_extracao)\n",
        "                    json_str_para_parsear = None\n",
        "                    if match_json:\n",
        "                        json_str_para_parsear = match_json.group(1)\n",
        "                    elif texto_resposta_extracao.strip().startswith(\"[\") and texto_resposta_extracao.strip().endswith(\"]\"):\n",
        "                        json_str_para_parsear = texto_resposta_extracao.strip()\n",
        "\n",
        "                    if json_str_para_parsear:\n",
        "                        try:\n",
        "                            itens_da_receita_atual = json.loads(json_str_para_parsear)\n",
        "                            if isinstance(itens_da_receita_atual, list) and \\\n",
        "                               all(isinstance(it, dict) and \"item\" in it and \"quantidade_descrita\" in it for it in itens_da_receita_atual):\n",
        "                                print(f\"Chatbot: Lista de {len(itens_da_receita_atual)} itens extraída com sucesso!\")\n",
        "                            else:\n",
        "                                print(\"Chatbot: A extração JSON não retornou o formato esperado.\")\n",
        "                                itens_da_receita_atual = None\n",
        "                        except json.JSONDecodeError as e_json:\n",
        "                            print(f\"Chatbot: Erro ao decodificar o JSON da lista de itens: {e_json}\")\n",
        "                            itens_da_receita_atual = None\n",
        "                    else:\n",
        "                        print(\"Chatbot: Não foi possível extrair um bloco JSON da resposta do LLM para a lista de itens.\")\n",
        "                        itens_da_receita_atual = None\n",
        "                except Exception as e_ext:\n",
        "                    print(f\"Chatbot: Erro durante a extração da lista de itens: {e_ext}\")\n",
        "                    itens_da_receita_atual = None\n",
        "\n",
        "            print(\"Chatbot: Arquivo processado. Faça sua pergunta ou peça uma estimativa de custos.\")\n",
        "            continue\n",
        "\n",
        "        except Exception as e_upload_geral:\n",
        "            print(f\"Chatbot: Erro geral no processo de upload: {e_upload_geral}\")\n",
        "            if current_colab_temp_filename and os.path.exists(current_colab_temp_filename):\n",
        "                try: os.remove(current_colab_temp_filename)\n",
        "                except: pass\n",
        "            uploaded_file_gemini = None\n",
        "            continue\n",
        "\n",
        "    # --- Processamento de perguntas do usuário (incluindo estimativa de preço) ---\n",
        "    if prompt_usuario:\n",
        "        # Lógica para estimativa de preço\n",
        "        if (\"preço\" in prompt_usuario.lower() or \"custo\" in prompt_usuario.lower() or \"valor\" in prompt_usuario.lower() or \"orçamento\" in prompt_usuario.lower()) and \\\n",
        "           (\"medicamentos\" in prompt_usuario.lower() or \"receita\" in prompt_usuario.lower() or \"insumos\" in prompt_usuario.lower() or \"total\" in prompt_usuario.lower() or \"itens\" in prompt_usuario.lower()):\n",
        "\n",
        "            if not uploaded_file_gemini:\n",
        "                print(\"Chatbot: Por favor, primeiro faça o upload da sua receita (comando 'upload').\")\n",
        "                continue\n",
        "            if not itens_da_receita_atual or not isinstance(itens_da_receita_atual, list):\n",
        "                print(\"Chatbot: Não consegui obter a lista de itens da receita. Tente o upload novamente ou verifique se a receita está legível.\")\n",
        "                continue\n",
        "\n",
        "            print(\"\\nChatbot: Buscando estimativas de preços nas farmácias Drogasil, Droga Raia e Drogaria São Paulo (usando DADOS SIMULADOS)...\")\n",
        "\n",
        "            resumo_custos_formatado = []\n",
        "            custo_geral_total_receita_min = 0.0\n",
        "            custo_geral_total_receita_max = 0.0\n",
        "            pelo_menos_um_item_com_preco = False\n",
        "\n",
        "            for item_info_llm in itens_da_receita_atual:\n",
        "                nome_item_display = item_info_llm.get(\"item\", \"Item Desconhecido\")\n",
        "                qtd_descrita_pelo_llm = item_info_llm.get(\"quantidade_descrita\", \"1\")\n",
        "\n",
        "                # Extrai a quantidade de embalagens/itens principais da receita e, se houver, unidades por embalagem na receita\n",
        "                qtd_embalagens_receita, _ = extrair_info_quantidade(qtd_descrita_pelo_llm, nome_item_display)\n",
        "\n",
        "                print(f\"\\n  Buscando preços para: {nome_item_display} (Receita pede: {qtd_descrita_pelo_llm} -> {qtd_embalagens_receita} embalagem(ns) principal(is))...\")\n",
        "\n",
        "                # Retorna [{farmacia, produto_buscado_sim, preco_embalagem_sim, unidades_por_embalagem_sim, unidade_basica_sim, link_simulado}, ...]\n",
        "                resultados_simulados_item = obter_precos_simulados_farmacias_v3(item_info_llm)\n",
        "\n",
        "                if resultados_simulados_item:\n",
        "                    precos_embalagem_encontrados_para_item = [res['preco_embalagem_sim'] for res in resultados_simulados_item if res.get('preco_embalagem_sim') is not None]\n",
        "\n",
        "                    if not precos_embalagem_encontrados_para_item:\n",
        "                        resumo_custos_formatado.append(f\"  - {nome_item_display} ({qtd_descrita_pelo_llm}): Não foram encontrados preços (simulados) de embalagem.\")\n",
        "                        continue\n",
        "\n",
        "                    preco_embalagem_min_sim = min(precos_embalagem_encontrados_para_item)\n",
        "                    preco_embalagem_max_sim = max(precos_embalagem_encontrados_para_item)\n",
        "\n",
        "                    # Assume que a primeira simulação tem a info correta de unidades por embalagem do DB\n",
        "                    unidades_por_embalagem_no_db = resultados_simulados_item[0].get('unidades_por_embalagem_sim', 1)\n",
        "                    unidade_basica_no_db = resultados_simulados_item[0].get('unidade_basica_sim', 'unidade')\n",
        "\n",
        "\n",
        "                    # LÓGICA DE CÁLCULO CORRIGIDA\n",
        "                    # Se a receita pede uma quantidade total de unidades básicas (ex: 200 agulhas)\n",
        "                    # E o preço simulado é por embalagem que contém X unidades básicas (ex: caixa com 100 agulhas)\n",
        "                    # Precisamos calcular quantas embalagens são necessárias.\n",
        "\n",
        "                    numero_de_embalagens_a_comprar = qtd_embalagens_receita # Default\n",
        "\n",
        "                    # Heurística: Se a \"quantidade_descrita\" na receita parecer ser unidades básicas\n",
        "                    # e for maior que o conteúdo de uma embalagem do DB, recalculamos o número de embalagens.\n",
        "                    # Ex: Receita \"200 agulhas\", DB \"preço por caixa de 100\". Comprar 2 caixas.\n",
        "                    # Ex: Receita \"5 canetas\", DB \"preço por caneta\". Comprar 5 canetas. (aqui qtd_embalagens_receita já é 5)\n",
        "                    if (unidade_basica_no_db in qtd_descrita_pelo_llm.lower() or \"unidades\" in qtd_descrita_pelo_llm.lower()) and \\\n",
        "                       qtd_embalagens_receita > unidades_por_embalagem_no_db and \\\n",
        "                       not (\"caixa\" in qtd_descrita_pelo_llm.lower() or \"embalagem\" in qtd_descrita_pelo_llm.lower()): # Evitar se a receita já especifica caixas\n",
        "                        numero_de_embalagens_a_comprar = math.ceil(qtd_embalagens_receita / unidades_por_embalagem_no_db)\n",
        "                        print(f\"    Ajuste: Receita pede {qtd_embalagens_receita} {unidade_basica_no_db}(s), \"\n",
        "                              f\"cada embalagem simulada tem {unidades_por_embalagem_no_db}. \"\n",
        "                              f\"Serão necessárias {numero_de_embalagens_a_comprar} embalagens.\")\n",
        "                    else:\n",
        "                         # Caso contrário, assumimos que qtd_embalagens_receita é o número de embalagens a comprar.\n",
        "                         # Ex: \"5 canetas\" (onde cada caneta é uma embalagem)\n",
        "                         # Ex: \"2 caixas\" (onde cada caixa é uma embalagem)\n",
        "                         numero_de_embalagens_a_comprar = qtd_embalagens_receita\n",
        "\n",
        "\n",
        "                    custo_total_item_min_calculado = preco_embalagem_min_sim * numero_de_embalagens_a_comprar\n",
        "                    custo_total_item_max_calculado = preco_embalagem_max_sim * numero_de_embalagens_a_comprar\n",
        "\n",
        "                    custo_geral_total_receita_min += custo_total_item_min_calculado\n",
        "                    custo_geral_total_receita_max += custo_total_item_max_calculado\n",
        "                    pelo_menos_um_item_com_preco = True\n",
        "\n",
        "                    detalhe_item_str = f\"  - {nome_item_display} (Prescrito: {qtd_descrita_pelo_llm} -> {numero_de_embalagens_a_comprar} emb. de ~{unidades_por_embalagem_no_db} {unidade_basica_no_db}): \"\n",
        "                    if custo_total_item_min_calculado == custo_total_item_max_calculado:\n",
        "                        detalhe_item_str += f\"Custo total estimado R$ {custo_total_item_min_calculado:.2f} \"\n",
        "                    else:\n",
        "                        detalhe_item_str += f\"Custo total estimado entre R$ {custo_total_item_min_calculado:.2f} e R$ {custo_total_item_max_calculado:.2f} \"\n",
        "\n",
        "                    farmacias_consultadas_str = \", \".join(sorted(list(set(res['farmacia'] for res in resultados_simulados_item))))\n",
        "                    detalhe_item_str += f\"(Preço por embalagem: R${preco_embalagem_min_sim:.2f} a R${preco_embalagem_max_sim:.2f} em {farmacias_consultadas_str})\"\n",
        "                    resumo_custos_formatado.append(detalhe_item_str)\n",
        "                else:\n",
        "                    resumo_custos_formatado.append(f\"  - {nome_item_display} ({qtd_descrita_pelo_llm}): Não foram encontrados preços (simulados).\")\n",
        "\n",
        "            if resumo_custos_formatado:\n",
        "                print(\"\\n--- ESTIMATIVA DE CUSTOS (SIMULADA / FARMÁCIAS ESPECÍFICAS) ---\")\n",
        "                for detalhe_str in resumo_custos_formatado:\n",
        "                    print(detalhe_str)\n",
        "\n",
        "                if pelo_menos_um_item_com_preco:\n",
        "                    if custo_geral_total_receita_min == custo_geral_total_receita_max:\n",
        "                         print(f\"\\n  **CUSTO TOTAL GERAL DA RECEITA (SIMULADO): R$ {custo_geral_total_receita_min:.2f}**\")\n",
        "                    else:\n",
        "                         print(f\"\\n  **CUSTO TOTAL GERAL DA RECEITA (SIMULADO): Entre R$ {custo_geral_total_receita_min:.2f} e R$ {custo_geral_total_receita_max:.2f}**\")\n",
        "                else:\n",
        "                    print(\"\\n  Não foi possível calcular um custo total geral para a receita com os dados simulados.\")\n",
        "\n",
        "            print((\"\\n**ATENÇÃO MUITO IMPORTANTE:** Estes valores são **ESTIMATIVAS e SIMULADAS** para Drogasil, Droga Raia e Drogaria São Paulo. \"\n",
        "                   \"Eles **NÃO REFLETEM** os preços reais na sua farmácia HOJE, com seu plano de saúde, ou descontos específicos. \"\n",
        "                   \"Os preços de medicamentos e insumos variam enormemente e mudam com frequência. \"\n",
        "                   \"**Consulte SEMPRE os sites ou lojas físicas dessas farmácias para obter os valores exatos.**\\n\"))\n",
        "            continue\n",
        "\n",
        "        # --- Envio normal de mensagem para o LLM para outras perguntas ---\n",
        "        try:\n",
        "            message_parts_para_llm = [prompt_usuario]\n",
        "            if uploaded_file_gemini:\n",
        "                 message_parts_para_llm.append(uploaded_file_gemini)\n",
        "\n",
        "            print(f\"Chatbot (Contexto: {'Arquivo ' + uploaded_file_gemini.display_name if uploaded_file_gemini else 'Sem arquivo'}): Processando sua pergunta...\")\n",
        "            response = chat.send_message(message_parts_para_llm)\n",
        "            print(f\"Chatbot: {response.text}\\n\")\n",
        "\n",
        "        except exceptions.GoogleAPIError as e_api_msg:\n",
        "            print(f\"Chatbot: ERRO DE API DO GOOGLE: {e_api_msg}\")\n",
        "        except Exception as e_msg:\n",
        "            print(f\"Chatbot: Desculpe, erro ao processar sua mensagem: {e_msg}\")\n",
        "\n",
        "print(\"Chat encerrado.\")"
      ],
      "metadata": {
        "colab": {
          "base_uri": "https://localhost:8080/"
        },
        "id": "IuOLPdGGmZ9U",
        "outputId": "195acf49-cbfc-4db4-a61f-e6d16330d84b"
      },
      "execution_count": null,
      "outputs": [
        {
          "metadata": {
            "tags": null
          },
          "name": "stdout",
          "output_type": "stream",
          "text": [
            "Chatbot (Contexto: Arquivo FILIPE SILVEIRA GONCALVES 2025.pdf): Processando sua pergunta...\n"
          ]
        },
        {
          "metadata": {
            "tags": null
          },
          "name": "stderr",
          "output_type": "stream",
          "text": [
            "WARNING:tornado.access:403 POST /v1beta/models/gemini-2.0-flash:generateContent?%24alt=json%3Benum-encoding%3Dint (127.0.0.1) 456.76ms\n"
          ]
        },
        {
          "metadata": {
            "tags": null
          },
          "name": "stdout",
          "output_type": "stream",
          "text": [
            "Chatbot: ERRO DE API DO GOOGLE: 403 POST https://generativelanguage.googleapis.com/v1beta/models/gemini-2.0-flash:generateContent?%24alt=json%3Benum-encoding%3Dint: You do not have permission to access the File pca8vz41nwey or it may not exist.\n"
          ]
        }
      ]
    }
  ]
}